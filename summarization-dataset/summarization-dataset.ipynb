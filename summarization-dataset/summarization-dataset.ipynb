{
 "cells": [
  {
   "cell_type": "code",
   "execution_count": null,
   "metadata": {},
   "outputs": [],
   "source": [
    "import json\n",
    "import os.path\n",
    "from transformers import T5Tokenizer, T5ForConditionalGeneration"
   ]
  },
  {
   "cell_type": "code",
   "execution_count": null,
   "metadata": {},
   "outputs": [],
   "source": [
    "model_checkpoint = \"stjiris/t5-portuguese-legal-summarization\"\n",
    "t5_model = T5ForConditionalGeneration.from_pretrained(model_checkpoint)\n",
    "\n",
    "'''\n",
    "Em caso de erro no carregamento do tokenizer abaixo, faça a instalação do transformers e sentencepiece convergentes e reinicie o ambiente de execução.\n",
    "\n",
    "pip install datsets transformers[sentencepiece]\n",
    "pip install sentencepiece\n",
    "'''\n",
    "t5_tokenizer = T5Tokenizer.from_pretrained(model_checkpoint)\n",
    "\n",
    "# cuda device t5_model\n",
    "t5_model.to('cuda:0')\n"
   ]
  },
  {
   "cell_type": "code",
   "execution_count": 4,
   "metadata": {},
   "outputs": [],
   "source": [
    "def generate_summarization_jurisprudencia(jurisprudencia):\n",
    "    preprocess_text = jurisprudencia\n",
    "    t5_prepared_Text = \"summarize: \"+preprocess_text\n",
    "    tokenized_text = t5_tokenizer.encode(\n",
    "        t5_prepared_Text, return_tensors=\"pt\").to('cuda:0')\n",
    "    summary_ids = t5_model.generate(tokenized_text,\n",
    "                                    num_beams=4,\n",
    "                                    no_repeat_ngram_size=2,\n",
    "                                    min_length=140,\n",
    "                                    max_length=1000,\n",
    "                                    early_stopping=True)\n",
    "\n",
    "    output = t5_tokenizer.decode(summary_ids[0], skip_special_tokens=True)\n",
    "    return output.replace(\"summarize: \", \"\")\n"
   ]
  },
  {
   "cell_type": "code",
   "execution_count": null,
   "metadata": {},
   "outputs": [],
   "source": [
    "# arquivo abaixo gerado em https://github.com/jonas-elias/jurisprudencia-sc-scraping\n",
    "file = open(file='./path/jurisprudencias.json')\n",
    "\n",
    "file_content = json.load(file)\n",
    "texto_resumido = []\n",
    "texto_temporario = []\n",
    "\n",
    "# a cada 'x' id`s, um novo arquivo é gerado visando evitar problemas com sessões de processamento (armazenamento gradual)\n",
    "quantidade_arquivo_id = 100\n",
    "\n",
    "for content in file_content:\n",
    "    texto_temporario.append({'id': content['id'], 'texto': content['texto']})\n",
    "    if content['id'] % quantidade_arquivo_id == 0:\n",
    "        if os.path.exists('./summarization-dataset_' + str(content['id']) + '.json') == False:\n",
    "            for texto in texto_temporario:\n",
    "                output = generate_summarization_jurisprudencia(texto['texto'])\n",
    "                texto_resumido.append({'id': texto['id'], 'texto': output})\n",
    "            with open('./summarization-dataset_' + str(content['id']) + '.json', 'w') as f:\n",
    "                json.dump(texto_resumido, f)\n",
    "        texto_resumido = []\n",
    "        texto_temporario = []\n"
   ]
  }
 ],
 "metadata": {
  "kernelspec": {
   "display_name": "Python 3",
   "language": "python",
   "name": "python3"
  },
  "language_info": {
   "codemirror_mode": {
    "name": "ipython",
    "version": 3
   },
   "file_extension": ".py",
   "mimetype": "text/x-python",
   "name": "python",
   "nbconvert_exporter": "python",
   "pygments_lexer": "ipython3",
   "version": "3.10.11"
  },
  "orig_nbformat": 4
 },
 "nbformat": 4,
 "nbformat_minor": 2
}
