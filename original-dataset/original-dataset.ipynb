{
 "cells": [
  {
   "cell_type": "code",
   "execution_count": null,
   "metadata": {},
   "outputs": [],
   "source": [
    "import json\n",
    "import os.path"
   ]
  },
  {
   "cell_type": "code",
   "execution_count": null,
   "metadata": {},
   "outputs": [],
   "source": [
    "# arquivo abaixo gerado em https://github.com/jonas-elias/jurisprudencia-sc-scraping\n",
    "file = open(file='./path/jurisprudencias.json')\n",
    "\n",
    "file_content = json.load(file)\n",
    "texto = []\n",
    "\n",
    "# a cada 'x' id`s, um novo arquivo é gerado visando evitar problemas com sessões de processamento (armazenamento gradual)\n",
    "quantidade_arquivo_id = 100\n",
    "\n",
    "for content in file_content:\n",
    "    texto.append({'texto': content['texto']})\n",
    "    if content['id'] % quantidade_arquivo_id == 0:\n",
    "        if os.path.exists('./original-dataset_' + str(content['id']) + '.json') == False:\n",
    "            with open('./original-dataset_' + str(content['id']) + '.json', 'w') as f:\n",
    "                json.dump(texto, f)\n",
    "        texto = []"
   ]
  }
 ],
 "metadata": {
  "language_info": {
   "name": "python"
  },
  "orig_nbformat": 4
 },
 "nbformat": 4,
 "nbformat_minor": 2
}
