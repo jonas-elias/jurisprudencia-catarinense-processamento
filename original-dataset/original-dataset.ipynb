{
 "cells": [
  {
   "cell_type": "code",
   "execution_count": null,
   "metadata": {},
   "outputs": [],
   "source": [
    "import json\n",
    "import os.path"
   ]
  },
  {
   "cell_type": "code",
   "execution_count": null,
   "metadata": {},
   "outputs": [],
   "source": [
    "# arquivo abaixo gerado em https://github.com/jonas-elias/jurisprudencia-sc-scraping\n",
    "file = open(file='./path/jurisprudencias.json')\n",
    "\n",
    "file_content = json.load(file)\n",
    "texto = []\n",
    "\n",
    "# a cada 'x' id`s, um novo arquivo é gerado visando evitar problemas com sessões de processamento (armazenamento gradual)\n",
    "quantidade_arquivo_id = 100\n",
    "\n",
    "for content in file_content:\n",
    "    texto.append({'texto': content['texto']})\n",
    "    if content['id'] % quantidade_arquivo_id == 0:\n",
    "        if os.path.exists('./original-dataset_' + str(content['id']) + '.json') == False:\n",
    "            with open('./original-dataset_' + str(content['id']) + '.json', 'w') as f:\n",
    "                json.dump(texto, f)\n",
    "        texto = []"
   ]
  },
  {
   "cell_type": "code",
   "execution_count": null,
   "metadata": {},
   "outputs": [],
   "source": [
    "def remove_pad_from_text(text):\n",
    "    return text.replace(\"<pad> \", \"\", 1)\n",
    "\n",
    "def merge_json_files(folder_path, output_file):\n",
    "    all_data = []\n",
    "\n",
    "    for filename in os.listdir(folder_path):\n",
    "        if filename.endswith('.json'):\n",
    "            with open(os.path.join(folder_path, filename), 'r', encoding='utf-8') as file:\n",
    "                data = json.load(file)\n",
    "                for item in data:\n",
    "                    if 'texto' in item:\n",
    "                        item['texto'] = remove_pad_from_text(item['texto'])\n",
    "                all_data.extend(data)\n",
    "\n",
    "    all_data.sort(key=lambda x: x['id'])\n",
    "\n",
    "    with open(output_file, 'w', encoding='utf-8') as outfile:\n",
    "        json.dump(all_data, outfile, ensure_ascii=False, indent=4)\n",
    "\n",
    "\n",
    "folder_path = './dataset/'\n",
    "output_file = './output.json'\n",
    "\n",
    "merge_json_files(folder_path, output_file)"
   ]
  }
 ],
 "metadata": {
  "language_info": {
   "name": "python"
  },
  "orig_nbformat": 4
 },
 "nbformat": 4,
 "nbformat_minor": 2
}
