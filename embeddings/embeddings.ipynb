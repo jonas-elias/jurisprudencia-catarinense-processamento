{
 "cells": [
  {
   "cell_type": "code",
   "execution_count": null,
   "metadata": {},
   "outputs": [],
   "source": [
    "import json\n",
    "import os.path\n",
    "import numpy as np\n",
    "from sentence_transformers import SentenceTransformer"
   ]
  },
  {
   "cell_type": "code",
   "execution_count": null,
   "metadata": {},
   "outputs": [],
   "source": [
    "modelSBert = SentenceTransformer('all-distilroberta-v1')"
   ]
  },
  {
   "cell_type": "code",
   "execution_count": null,
   "metadata": {},
   "outputs": [],
   "source": [
    "# arquivo com todas as jurisprudências resumidas/agrupadas em um só arquivo.\n",
    "file = open(file='./path/summarization-dataset.json')\n",
    "\n",
    "file_content = json.load(file)\n",
    "embedding = []\n",
    "\n",
    "# a cada 'x' id`s, um novo arquivo é gerado visando evitar problemas com sessões de processamento (armazenamento gradual)\n",
    "quantidade_arquivo_id = 100\n",
    "\n",
    "for content in file_content:\n",
    "    vector = modelSBert.encode(content['texto'])\n",
    "    embedding.append(vector)\n",
    "    if content['id'] % quantidade_arquivo_id == 0:\n",
    "        if os.path.exists('./embeddings_' + str(content['id']) + '.npy') == False:\n",
    "            np.save('./embeddings_' +\n",
    "                    str(content['id']) + '.npy', embedding, allow_pickle=False)\n",
    "        embedding = []\n"
   ]
  }
 ],
 "metadata": {
  "language_info": {
   "name": "python"
  },
  "orig_nbformat": 4
 },
 "nbformat": 4,
 "nbformat_minor": 2
}
