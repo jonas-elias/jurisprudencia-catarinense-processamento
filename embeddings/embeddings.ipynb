{
 "cells": [
  {
   "cell_type": "code",
   "execution_count": null,
   "metadata": {},
   "outputs": [],
   "source": [
    "import json\n",
    "import os.path\n",
    "import numpy as np\n",
    "from sentence_transformers import SentenceTransformer"
   ]
  },
  {
   "cell_type": "code",
   "execution_count": null,
   "metadata": {},
   "outputs": [],
   "source": [
    "#modelSBert = SentenceTransformer('all-distilroberta-v1')\n",
    "#modelSBert = SentenceTransformer('raquelsilveira/legalbertpt_sc')\n",
    "#modelSBert = SentenceTransformer('dominguesm/legal-bert-base-cased-ptbr')\n",
    "#modelSBert = SentenceTransformer('ulysses-camara/legal-bert-pt-br')\n",
    "#modelSBert = SentenceTransformer('sentence-transformers/paraphrase-multilingual-mpnet-base-v2')\n",
    "#modelSBert = SentenceTransformer('tgsc/sentence-transformer-ult5-pt-small')\n",
    "#modelSBert = SentenceTransformer('alfaneo/jurisbert-base-portuguese-uncased')\n",
    "#modelSBert = SentenceTransformer('alfaneo/jurisbert-base-portuguese-sts')\n",
    "modelSBert = SentenceTransformer('juridics/bertlaw-base-portuguese-sts-scale')"
   ]
  },
  {
   "cell_type": "code",
   "execution_count": null,
   "metadata": {},
   "outputs": [],
   "source": [
    "file = open(file='/jurisprudencias.json')\n",
    "\n",
    "file_content = json.load(file)\n",
    "embedding = []\n",
    "\n",
    "# a cada 'x' id`s, um novo arquivo é gerado visando evitar problemas com sessões de processamento (armazenamento gradual)\n",
    "quantidade_arquivo_id = 100\n",
    "\n",
    "def remove_pad_from_text(text):\n",
    "  return text.replace(\"</s>\", \"\")\n",
    "\n",
    "for content in file_content:\n",
    "    vector = modelSBert.encode(remove_pad_from_text(content['texto']))\n",
    "    embedding.append(vector)\n",
    "\n",
    "np.save('/embeddings.npy', embedding, allow_pickle=False)\n",
    "embedding = []"
   ]
  }
 ],
 "metadata": {
  "language_info": {
   "name": "python"
  },
  "orig_nbformat": 4
 },
 "nbformat": 4,
 "nbformat_minor": 2
}
